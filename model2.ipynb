{
 "cells": [
  {
   "cell_type": "markdown",
   "metadata": {},
   "source": [
    "# **Combining Logistic Regression and Naive Bayes with Word Embeddings for Improved Sentiment Analysis**"
   ]
  },
  {
   "cell_type": "markdown",
   "metadata": {},
   "source": [
    "## Import Libraries and Data"
   ]
  },
  {
   "cell_type": "code",
   "execution_count": 1,
   "metadata": {},
   "outputs": [],
   "source": [
    "import nltk\n",
    "from nltk.corpus import stopwords\n",
    "from nltk.corpus import twitter_samples\n",
    "from nltk.tokenize import word_tokenize\n",
    "import numpy as np\n",
    "from sklearn.model_selection import train_test_split\n",
    "import contractions"
   ]
  },
  {
   "cell_type": "code",
   "execution_count": 2,
   "metadata": {},
   "outputs": [
    {
     "name": "stderr",
     "output_type": "stream",
     "text": [
      "[nltk_data] Downloading package twitter_samples to\n",
      "[nltk_data]     C:\\Users\\kench\\AppData\\Roaming\\nltk_data...\n",
      "[nltk_data]   Package twitter_samples is already up-to-date!\n",
      "[nltk_data] Downloading package stopwords to\n",
      "[nltk_data]     C:\\Users\\kench\\AppData\\Roaming\\nltk_data...\n",
      "[nltk_data]   Package stopwords is already up-to-date!\n",
      "[nltk_data] Downloading package punkt to\n",
      "[nltk_data]     C:\\Users\\kench\\AppData\\Roaming\\nltk_data...\n",
      "[nltk_data]   Package punkt is already up-to-date!\n"
     ]
    },
    {
     "data": {
      "text/plain": [
       "True"
      ]
     },
     "execution_count": 2,
     "metadata": {},
     "output_type": "execute_result"
    }
   ],
   "source": [
    "# Download required NLTK datasets\n",
    "nltk.download('twitter_samples')\n",
    "nltk.download('stopwords')\n",
    "nltk.download('punkt')"
   ]
  },
  {
   "cell_type": "markdown",
   "metadata": {},
   "source": [
    "## Load and Preprocess the Dataset"
   ]
  },
  {
   "cell_type": "code",
   "execution_count": 3,
   "metadata": {},
   "outputs": [],
   "source": [
    "# Load positive and negative tweets\n",
    "positive_tweets = twitter_samples.strings('positive_tweets.json')\n",
    "negative_tweets = twitter_samples.strings('negative_tweets.json')\n",
    "\n",
    "# Assign labels: 1 for positive, 0 for negative\n",
    "positive_labels = [1] * len(positive_tweets)\n",
    "negative_labels = [0] * len(negative_tweets)\n",
    "\n",
    "# Combine and preprocess data\n",
    "tweets = positive_tweets + negative_tweets\n",
    "labels = positive_labels + negative_labels"
   ]
  },
  {
   "cell_type": "code",
   "execution_count": 4,
   "metadata": {},
   "outputs": [
    {
     "name": "stdout",
     "output_type": "stream",
     "text": [
      "Positive Tweets:\n",
      "#FollowFriday @France_Inte @PKuchly57 @Milipol_Paris for being top engaged members in my community this week :)\n",
      "@Lamb2ja Hey James! How odd :/ Please call our Contact Centre on 02392441234 and we will be able to assist you :) Many thanks!\n",
      "@DespiteOfficial we had a listen last night :) As You Bleed is an amazing track. When are you in Scotland?!\n",
      "@97sides CONGRATS :)\n",
      "yeaaaah yippppy!!!  my accnt verified rqst has succeed got a blue tick mark on my fb profile :) in 15 days\n",
      "\n",
      "Negative Tweets:\n",
      "hopeless for tmr :(\n",
      "Everything in the kids section of IKEA is so cute. Shame I'm nearly 19 in 2 months :(\n",
      "@Hegelbon That heart sliding into the waste basket. :(\n",
      "“@ketchBurning: I hate Japanese call him \"bani\" :( :(”\n",
      "\n",
      "Me too\n",
      "Dang starting next week I have \"work\" :(\n"
     ]
    }
   ],
   "source": [
    "print(\"Positive Tweets:\")\n",
    "for tweet in positive_tweets[:5]:\n",
    "    print(tweet)\n",
    "\n",
    "print(\"\\nNegative Tweets:\")\n",
    "for tweet in negative_tweets[:5]:\n",
    "    print(tweet)"
   ]
  },
  {
   "cell_type": "code",
   "execution_count": 5,
   "metadata": {},
   "outputs": [],
   "source": [
    "# Preprocess tweets\n",
    "def preprocess_tweet(text):\n",
    "    text = contractions.fix(text)\n",
    "    stop_words = set(stopwords.words('english')) - {'not', 'no', 'very', 'absolutely', 'loved'}\n",
    "    tokens = word_tokenize(text.lower())\n",
    "    tokens = [word for word in tokens if word.isalpha() and word not in stop_words]\n",
    "    return \" \".join(tokens)\n",
    "\n",
    "processed_tweets = [preprocess_tweet(tweet) for tweet in tweets]"
   ]
  },
  {
   "cell_type": "code",
   "execution_count": 6,
   "metadata": {},
   "outputs": [],
   "source": [
    "# Split into training and test sets\n",
    "X_train_raw, X_test_raw, y_train, y_test = train_test_split(processed_tweets, labels, test_size=0.2, random_state=42, stratify=labels)"
   ]
  },
  {
   "cell_type": "markdown",
   "metadata": {},
   "source": [
    "## Create Word Embeddings using GloVe Embeddings"
   ]
  },
  {
   "cell_type": "code",
   "execution_count": 7,
   "metadata": {},
   "outputs": [],
   "source": [
    "import gensim.downloader as api\n",
    "\n",
    "# Load pre-trained GloVe embeddings\n",
    "glove_vectors = api.load(\"glove-wiki-gigaword-100\")\n",
    "\n",
    "# Convert tweets into GloVe vectors\n",
    "def tweet_to_glove_vector(tokens):\n",
    "    vectors = [glove_vectors[word] for word in tokens if word in glove_vectors]\n",
    "    return np.mean(vectors, axis=0) if vectors else np.zeros(100)\n",
    "\n",
    "# Generate GloVe embeddings for training and testing sets\n",
    "X_train = np.array([tweet_to_glove_vector(tweet) for tweet in X_train_raw])\n",
    "X_test = np.array([tweet_to_glove_vector(tweet) for tweet in X_test_raw])"
   ]
  },
  {
   "cell_type": "markdown",
   "metadata": {},
   "source": [
    "## Vectorize Tweets using TF-IDF"
   ]
  },
  {
   "cell_type": "code",
   "execution_count": 8,
   "metadata": {},
   "outputs": [],
   "source": [
    "from sklearn.feature_extraction.text import TfidfVectorizer\n",
    "\n",
    "# TF-IDF Vectorization\n",
    "tfidf = TfidfVectorizer(max_features=10000, ngram_range=(1, 2))\n",
    "X_train_tfidf = tfidf.fit_transform(X_train_raw)\n",
    "X_test_tfidf = tfidf.transform(X_test_raw)"
   ]
  },
  {
   "cell_type": "markdown",
   "metadata": {},
   "source": [
    "## Training the Models"
   ]
  },
  {
   "cell_type": "code",
   "execution_count": 9,
   "metadata": {},
   "outputs": [
    {
     "name": "stdout",
     "output_type": "stream",
     "text": [
      "Fitting 5 folds for each of 5 candidates, totalling 25 fits\n",
      "Best C for Logistic Regression: {'C': 10}\n"
     ]
    }
   ],
   "source": [
    "# Define the parameter grid for Logistic Regression\n",
    "from sklearn.linear_model import LogisticRegression\n",
    "from sklearn.model_selection import GridSearchCV\n",
    "\n",
    "param_grid_lr = {'C': [0.01, 0.1, 1, 10, 100]}\n",
    "\n",
    "# Perform grid search with cross-validation\n",
    "grid_search_lr = GridSearchCV(LogisticRegression(max_iter=1000), param_grid_lr, cv=5, n_jobs=-1, verbose=2, scoring='accuracy')\n",
    "grid_search_lr.fit(X_train, y_train)\n",
    "\n",
    "# Get the best Logistic Regression model\n",
    "best_lr_model = grid_search_lr.best_estimator_\n",
    "print(\"Best C for Logistic Regression:\", grid_search_lr.best_params_)"
   ]
  },
  {
   "cell_type": "code",
   "execution_count": 10,
   "metadata": {},
   "outputs": [
    {
     "name": "stdout",
     "output_type": "stream",
     "text": [
      "Fitting 5 folds for each of 5 candidates, totalling 25 fits\n",
      "Best alpha for Naive Bayes: {'alpha': 5}\n"
     ]
    }
   ],
   "source": [
    "# Define the parameter grid for Naive Bayes\n",
    "from sklearn.naive_bayes import MultinomialNB\n",
    "\n",
    "param_grid_nb = {'alpha': [0.1, 0.5, 1, 5, 10]}\n",
    "\n",
    "# Perform grid search with cross-validation\n",
    "grid_search_nb = GridSearchCV(MultinomialNB(), param_grid_nb, cv=5, n_jobs=-1, verbose=2, scoring='accuracy')\n",
    "grid_search_nb.fit(X_train_tfidf, y_train)\n",
    "\n",
    "# Get the best Naive Bayes model\n",
    "best_nb_model = grid_search_nb.best_estimator_\n",
    "print(\"Best alpha for Naive Bayes:\", grid_search_nb.best_params_)"
   ]
  },
  {
   "cell_type": "markdown",
   "metadata": {},
   "source": [
    "## Stacking Classifier"
   ]
  },
  {
   "cell_type": "code",
   "execution_count": 11,
   "metadata": {},
   "outputs": [
    {
     "name": "stdout",
     "output_type": "stream",
     "text": [
      "Stacking Model Accuracy: 0.7665\n",
      "Classification Report:\n",
      "               precision    recall  f1-score   support\n",
      "\n",
      "           0       0.76      0.79      0.77      1000\n",
      "           1       0.78      0.75      0.76      1000\n",
      "\n",
      "    accuracy                           0.77      2000\n",
      "   macro avg       0.77      0.77      0.77      2000\n",
      "weighted avg       0.77      0.77      0.77      2000\n",
      "\n"
     ]
    }
   ],
   "source": [
    "#Combine the predictions of Logistic Regression and Naive Bayes using a stacking classifier\n",
    "\n",
    "from sklearn.ensemble import StackingClassifier\n",
    "from sklearn.metrics import accuracy_score, classification_report\n",
    "\n",
    "# Create Stacking Classifier\n",
    "stacked_model = StackingClassifier(\n",
    "    estimators=[('lr', best_lr_model), ('nb', best_nb_model)],\n",
    "    final_estimator=LogisticRegression()\n",
    ")\n",
    "\n",
    "# Combine features (TF-IDF for NB, GloVe for LR)\n",
    "from scipy.sparse import hstack\n",
    "\n",
    "X_train_combined = hstack([X_train_tfidf, X_train])  # Combine TF-IDF and GloVe\n",
    "X_test_combined = hstack([X_test_tfidf, X_test])    # Same for test set\n",
    "\n",
    "# Clip negative values in combined matrix (if any)\n",
    "X_train_combined = np.clip(X_train_combined.toarray(), 0, None)\n",
    "X_test_combined = np.clip(X_test_combined.toarray(), 0, None)\n",
    "\n",
    "# Train and evaluate the stacking model\n",
    "stacked_model.fit(X_train_combined, y_train)\n",
    "y_pred_stacked = stacked_model.predict(X_test_combined)\n",
    "\n",
    "# Evaluate the model\n",
    "print(\"Stacking Model Accuracy:\", accuracy_score(y_test, y_pred_stacked))\n",
    "print(\"Classification Report:\\n\", classification_report(y_test, y_pred_stacked))"
   ]
  },
  {
   "cell_type": "code",
   "execution_count": 12,
   "metadata": {},
   "outputs": [
    {
     "data": {
      "image/png": "[encoded data removed]",
      "text/plain": [
       "<Figure size 700x500 with 1 Axes>"
      ]
     },
     "metadata": {},
     "output_type": "display_data"
    }
   ],
   "source": [
    "import matplotlib.pyplot as plt\n",
    "import seaborn as sns\n",
    "import pandas as pd\n",
    "\n",
    "# Generate classification report as a dictionary\n",
    "report = classification_report(y_test, y_pred_stacked, target_names=['Negative', 'Positive'], output_dict=True)\n",
    "\n",
    "# Convert the dictionary to a DataFrame for visualization\n",
    "report_df = pd.DataFrame(report).transpose()\n",
    "\n",
    "# Filter out averages for clarity (optional)\n",
    "class_metrics = report_df.iloc[:-3, :3]  # Only include 'precision', 'recall', 'f1-score' for classes\n",
    "\n",
    "# Plot heatmap\n",
    "plt.figure(figsize=(7, 5))\n",
    "sns.heatmap(class_metrics, annot=True, fmt=\".2f\", cmap=\"Oranges\", cbar=False, linewidths=5)\n",
    "\n",
    "plt.title(\"Classification Report Heatmap\")\n",
    "plt.xlabel(\"Metrics\")\n",
    "plt.ylabel(\"Classes\")\n",
    "plt.show()"
   ]
  },
  {
   "cell_type": "markdown",
   "metadata": {},
   "source": [
    "# Predict with own example"
   ]
  },
  {
   "cell_type": "code",
   "execution_count": 17,
   "metadata": {},
   "outputs": [],
   "source": [
    "def classify_and_print_sentiment(sentence, stacked_model, tfidf_vectorizer):\n",
    "\n",
    "    tokens = preprocess_tweet(sentence)\n",
    "    glove_vector = tweet_to_glove_vector(tokens).reshape(1, -1)\n",
    "    \n",
    "    # Clip negative values (if any)\n",
    "    dense_glove_vector = np.clip(glove_vector, 0, None)\n",
    "\n",
    "    # Vectorize using TF-IDF\n",
    "    tfidf_vector = tfidf_vectorizer.transform([\" \".join(tokens)])\n",
    "\n",
    "    # Combine GloVe and TF-IDF vectors\n",
    "    from scipy.sparse import hstack\n",
    "    combined_vector = hstack([tfidf_vector, dense_glove_vector])\n",
    "\n",
    "    # Predict sentiment\n",
    "    prediction = stacked_model.predict_proba(combined_vector)\n",
    "    print(\"Prediction Probabilities:\", prediction)\n",
    "    sentiment = \"Positive\" if prediction[0][1] > 0.5 else \"Negative\"\n",
    "    print(f\"Sentence: \\\"{sentence}\\\" -> {sentiment} Sentiment\")"
   ]
  },
  {
   "cell_type": "code",
   "execution_count": 28,
   "metadata": {},
   "outputs": [
    {
     "name": "stdout",
     "output_type": "stream",
     "text": [
      "Prediction Probabilities: [[0.5113996 0.4886004]]\n",
      "Sentence: \"Our campus is not that good\" -> Negative Sentiment\n"
     ]
    }
   ],
   "source": [
    "sentence = \"Our campus is not that good\"\n",
    "classify_and_print_sentiment(sentence, stacked_model, tfidf)"
   ]
  },
  {
   "cell_type": "code",
   "execution_count": null,
   "metadata": {},
   "outputs": [],
   "source": []
  }
 ],
 "metadata": {
  "kernelspec": {
   "display_name": "Python 3",
   "language": "python",
   "name": "python3"
  },
  "language_info": {
   "codemirror_mode": {
    "name": "ipython",
    "version": 3
   },
   "file_extension": ".py",
   "mimetype": "text/x-python",
   "name": "python",
   "nbconvert_exporter": "python",
   "pygments_lexer": "ipython3",
   "version": "3.12.0"
  }
 },
 "nbformat": 4,
 "nbformat_minor": 2
}
